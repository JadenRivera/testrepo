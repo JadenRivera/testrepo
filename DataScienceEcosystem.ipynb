{
 "cells": [
  {
   "cell_type": "markdown",
   "id": "9d4a0195-b4f0-4cf9-a1af-897299190680",
   "metadata": {},
   "source": [
    "# Data Science Tools and Ecosystem"
   ]
  },
  {
   "cell_type": "markdown",
   "id": "cb908098-ff95-44da-b1ed-8acf603405dd",
   "metadata": {},
   "source": [
    "In this notebook, Data Science Tools and Ecosystem are summarized."
   ]
  },
  {
   "cell_type": "markdown",
   "id": "f2dd4681-5fac-454c-bbe8-8b7bff3a76c9",
   "metadata": {},
   "source": [
    "**Objectives:**\n",
    "\n",
    "* List of popular languages for Data Science\n",
    "* List of frequently used libraries for Data Science\n",
    "* Simple arithmetic expressions in Python\n"
   ]
  },
  {
   "cell_type": "markdown",
   "id": "24edc08d-58c3-4ce2-a7d3-3a91a6829132",
   "metadata": {},
   "source": [
    "Some of the popular languages that Data Scientists use are:\n",
    "\n",
    "1. Python\n",
    "2. R\n",
    "3. SQL\n",
    "4. Java\n",
    "5. Julia"
   ]
  },
  {
   "cell_type": "markdown",
   "id": "74dbc084-4763-4190-89ed-371192c0fd99",
   "metadata": {},
   "source": [
    "Some of the commonly used libraries used by Data Scientists include:"
   ]
  },
  {
   "cell_type": "markdown",
   "id": "cf9510b7-12f7-4428-ba76-597af5c8b1b9",
   "metadata": {},
   "source": [
    "1. Pandas\n",
    "2. Numpy\n",
    "3. Scikit-learn\n",
    "4. Matplotlib\n",
    "5. Tensorflow"
   ]
  },
  {
   "cell_type": "markdown",
   "id": "45f2952c-1b0a-486f-97ad-93d0236f0664",
   "metadata": {},
   "source": [
    "| Data Science Tools | \n",
    "| -------------|\n",
    "| JupyterLab |\n",
    "| RStudio |\n",
    "| Apache Zeppelin |"
   ]
  },
  {
   "cell_type": "markdown",
   "id": "a8f47ade-b94e-4d8c-95be-d607ca0c7bae",
   "metadata": {},
   "source": [
    "### Below are a few examples of evaluating arithmetic expressions in Python"
   ]
  },
  {
   "cell_type": "code",
   "execution_count": 5,
   "id": "10558789-710f-4f13-8159-87dcdefa45d3",
   "metadata": {},
   "outputs": [
    {
     "data": {
      "text/plain": [
       "17"
      ]
     },
     "execution_count": 5,
     "metadata": {},
     "output_type": "execute_result"
    }
   ],
   "source": [
    "#This a simple arithmetic expression to mutiply then add integers.\n",
    "(3*4)+5"
   ]
  },
  {
   "cell_type": "code",
   "execution_count": 11,
   "id": "334db45a-039a-4990-b218-33c475d33dd0",
   "metadata": {},
   "outputs": [
    {
     "name": "stdout",
     "output_type": "stream",
     "text": [
      "200 minutes into hours is 3.3 hours\n"
     ]
    }
   ],
   "source": [
    "# This will convert 200 minutes to hours by diving by 60.\n",
    "minutes = 200\n",
    "minutes_to_hours = minutes / 60\n",
    "print(f\"{minutes} minutes into hours is {minutes_to_hours:.1f} hours\")"
   ]
  },
  {
   "cell_type": "markdown",
   "id": "ebc7ba41-9287-4ca1-853d-b6b787b54f7a",
   "metadata": {},
   "source": [
    "## Author\n",
    "\n",
    "Jaden Rivera"
   ]
  }
 ],
 "metadata": {
  "kernelspec": {
   "display_name": "Python 3 (ipykernel)",
   "language": "python",
   "name": "python3"
  },
  "language_info": {
   "codemirror_mode": {
    "name": "ipython",
    "version": 3
   },
   "file_extension": ".py",
   "mimetype": "text/x-python",
   "name": "python",
   "nbconvert_exporter": "python",
   "pygments_lexer": "ipython3",
   "version": "3.11.7"
  }
 },
 "nbformat": 4,
 "nbformat_minor": 5
}
